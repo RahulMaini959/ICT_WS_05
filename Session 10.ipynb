{
 "cells": [
  {
   "cell_type": "code",
   "execution_count": 1,
   "id": "777c9546",
   "metadata": {},
   "outputs": [
    {
     "name": "stdout",
     "output_type": "stream",
     "text": [
      "students.csv file has been created.\n"
     ]
    }
   ],
   "source": [
    "import csv\n",
    "\n",
    "def generate_students_csv():\n",
    "    # Define the data for the CSV file\n",
    "    student_data = [\n",
    "        ['Student ID', 'First Name', 'Last Name', 'Email'],\n",
    "        ['1001', 'Alice', 'Smith', 'sd1001@uni123st.edu.au'],\n",
    "        ['1002', 'Bob', 'Johnson', 'sd1002@uni123st.edu.au'],\n",
    "        ['1003', 'Charlie', 'Brown', 'sd1003@uni123st.edu.au'],\n",
    "        ['1004', 'David', 'Williams', 'sd1004@uni123st.edu.au'],\n",
    "        ['1005', 'Eva', 'Davis', 'sd1005@uni123st.edu.au']\n",
    "    ]\n",
    "    \n",
    "    # Open the file in write mode and create a CSV writer\n",
    "    with open('students.csv', mode='w', newline='') as file:\n",
    "        writer = csv.writer(file)\n",
    "        \n",
    "        # Write all rows to the CSV file\n",
    "        writer.writerows(student_data)\n",
    "    \n",
    "    print(\"students.csv file has been created.\")\n",
    "\n",
    "# Call the function to generate the CSV file\n",
    "generate_students_csv()\n"
   ]
  },
  {
   "cell_type": "code",
   "execution_count": 6,
   "id": "0805df21",
   "metadata": {},
   "outputs": [
    {
     "data": {
      "text/plain": [
       "['Hello Alice Smith, your student ID is 1001.',\n",
       " 'Hello Bob Johnson, your student ID is 1002.',\n",
       " 'Hello Charlie Brown, your student ID is 1003.',\n",
       " 'Hello David Williams, your student ID is 1004.',\n",
       " 'Hello Eva Davis, your student ID is 1005.']"
      ]
     },
     "execution_count": 6,
     "metadata": {},
     "output_type": "execute_result"
    }
   ],
   "source": [
    "import csv\n",
    "\n",
    "def get_student_info(file_name):\n",
    "    student_info = []\n",
    "    \n",
    "    # Read the CSV file\n",
    "    with open(file_name, mode='r') as file:\n",
    "        reader = csv.reader(file)\n",
    "        next(reader)  # Skip the header row\n",
    "        \n",
    "        # Process each row to create the desired output\n",
    "        for row in reader:\n",
    "            first_name, last_name, student_id = row[1], row[2], row[0]\n",
    "            student_info.append(f\"Hello {first_name} {last_name}, your student ID is {student_id}.\")\n",
    "    \n",
    "    return student_info\n",
    "\n",
    "# Test the function with the created CSV file\n",
    "get_student_info('students.csv')\n"
   ]
  },
  {
   "cell_type": "code",
   "execution_count": 7,
   "id": "2da8a071",
   "metadata": {},
   "outputs": [
    {
     "name": "stderr",
     "output_type": "stream",
     "text": [
      ".\n",
      "----------------------------------------------------------------------\n",
      "Ran 1 test in 0.002s\n",
      "\n",
      "OK\n"
     ]
    },
    {
     "data": {
      "text/plain": [
       "<unittest.runner.TextTestResult run=1 errors=0 failures=0>"
      ]
     },
     "execution_count": 7,
     "metadata": {},
     "output_type": "execute_result"
    }
   ],
   "source": [
    "import unittest\n",
    "\n",
    "# Test case class\n",
    "class TestStudentInfo(unittest.TestCase):\n",
    "    \n",
    "    def test_get_student_info(self):\n",
    "        test_file = 'students.csv'\n",
    "        expected_output = [\n",
    "            \"Hello Alice Smith, your student ID is 1001.\",\n",
    "            \"Hello Bob Johnson, your student ID is 1002.\",\n",
    "            \"Hello Charlie Brown, your student ID is 1003.\",\n",
    "            \"Hello David Williams, your student ID is 1004.\",\n",
    "            \"Hello Eva Davis, your student ID is 1005.\"\n",
    "        ]\n",
    "        \n",
    "        # Call the function to get student info\n",
    "        actual_output = get_student_info(test_file)\n",
    "        \n",
    "        # Check if the function output matches the expected output\n",
    "        self.assertEqual(actual_output, expected_output)\n",
    "\n",
    "# Run the tests\n",
    "unittest.TextTestRunner().run(unittest.TestLoader().loadTestsFromTestCase(TestStudentInfo))\n"
   ]
  },
  {
   "cell_type": "code",
   "execution_count": null,
   "id": "d3993a17",
   "metadata": {},
   "outputs": [],
   "source": []
  },
  {
   "cell_type": "code",
   "execution_count": 8,
   "id": "88a7dda5",
   "metadata": {},
   "outputs": [
    {
     "name": "stdout",
     "output_type": "stream",
     "text": [
      "Before raise: John Doe - $50,000.00\n",
      "Before raise: Jane Smith - $60,000.00\n",
      "After default raise: John Doe - $55,000.00\n",
      "After default raise: Jane Smith - $65,000.00\n",
      "After custom raise: John Doe - $62,000.00\n"
     ]
    }
   ],
   "source": [
    "class Employee:\n",
    "    def __init__(self, first_name, last_name, annual_salary):\n",
    "        # Initialize the employee's details\n",
    "        self.first_name = first_name\n",
    "        self.last_name = last_name\n",
    "        self.annual_salary = annual_salary\n",
    "\n",
    "    def give_raise(self, raise_amount=5000):\n",
    "        # Method to give a raise to the employee\n",
    "        self.annual_salary += raise_amount\n",
    "\n",
    "    def __str__(self):\n",
    "        # String representation of the employee's details\n",
    "        return f\"{self.first_name} {self.last_name} - ${self.annual_salary:,.2f}\"\n",
    "\n",
    "# Testing the Employee class\n",
    "employee1 = Employee(\"John\", \"Doe\", 50000)\n",
    "employee2 = Employee(\"Jane\", \"Smith\", 60000)\n",
    "\n",
    "# Print initial details\n",
    "print(f\"Before raise: {employee1}\")\n",
    "print(f\"Before raise: {employee2}\")\n",
    "\n",
    "# Give a raise with the default amount\n",
    "employee1.give_raise()\n",
    "employee2.give_raise()\n",
    "\n",
    "# Print after the default raise\n",
    "print(f\"After default raise: {employee1}\")\n",
    "print(f\"After default raise: {employee2}\")\n",
    "\n",
    "# Give a custom raise to employee1\n",
    "employee1.give_raise(7000)\n",
    "\n",
    "# Print after custom raise\n",
    "print(f\"After custom raise: {employee1}\")\n"
   ]
  },
  {
   "cell_type": "code",
   "execution_count": null,
   "id": "346f690a",
   "metadata": {},
   "outputs": [],
   "source": []
  },
  {
   "cell_type": "code",
   "execution_count": 9,
   "id": "270d8166",
   "metadata": {},
   "outputs": [],
   "source": [
    "class Employee:\n",
    "    def __init__(self, first_name, last_name, annual_salary):\n",
    "        self.first_name = first_name\n",
    "        self.last_name = last_name\n",
    "        self.annual_salary = annual_salary\n",
    "\n",
    "    def give_raise(self, raise_amount=5000):\n",
    "        self.annual_salary += raise_amount\n"
   ]
  },
  {
   "cell_type": "code",
   "execution_count": 10,
   "id": "b77ff99c",
   "metadata": {},
   "outputs": [
    {
     "name": "stderr",
     "output_type": "stream",
     "text": [
      "..\n",
      "----------------------------------------------------------------------\n",
      "Ran 2 tests in 0.002s\n",
      "\n",
      "OK\n"
     ]
    },
    {
     "data": {
      "text/plain": [
       "<unittest.runner.TextTestResult run=2 errors=0 failures=0>"
      ]
     },
     "execution_count": 10,
     "metadata": {},
     "output_type": "execute_result"
    }
   ],
   "source": [
    "import unittest\n",
    "\n",
    "class TestEmployee(unittest.TestCase):\n",
    "\n",
    "    def test_give_default_raise(self):\n",
    "        # Create an instance of Employee\n",
    "        employee = Employee(\"John\", \"Doe\", 50000)\n",
    "        \n",
    "        # Call give_raise() without a custom raise amount\n",
    "        employee.give_raise()\n",
    "        \n",
    "        # Check if the salary is updated correctly (50000 + 5000 = 55000)\n",
    "        self.assertEqual(employee.annual_salary, 55000)\n",
    "\n",
    "    def test_give_custom_raise(self):\n",
    "        # Create an instance of Employee\n",
    "        employee = Employee(\"Jane\", \"Smith\", 60000)\n",
    "        \n",
    "        # Call give_raise() with a custom raise amount\n",
    "        employee.give_raise(7000)\n",
    "        \n",
    "        # Check if the salary is updated correctly (60000 + 7000 = 67000)\n",
    "        self.assertEqual(employee.annual_salary, 67000)\n",
    "\n",
    "# Run the tests\n",
    "unittest.TextTestRunner().run(unittest.TestLoader().loadTestsFromTestCase(TestEmployee))\n"
   ]
  },
  {
   "cell_type": "code",
   "execution_count": 11,
   "id": "6c11bf3a",
   "metadata": {},
   "outputs": [
    {
     "name": "stderr",
     "output_type": "stream",
     "text": [
      "..\n",
      "----------------------------------------------------------------------\n",
      "Ran 2 tests in 0.003s\n",
      "\n",
      "OK\n"
     ]
    },
    {
     "data": {
      "text/plain": [
       "<unittest.runner.TextTestResult run=2 errors=0 failures=0>"
      ]
     },
     "execution_count": 11,
     "metadata": {},
     "output_type": "execute_result"
    }
   ],
   "source": [
    "class TestEmployeeWithFixture(unittest.TestCase):\n",
    "\n",
    "    def setUp(self):\n",
    "        # This fixture will run before each test method.\n",
    "        self.employee1 = Employee(\"John\", \"Doe\", 50000)\n",
    "        self.employee2 = Employee(\"Jane\", \"Smith\", 60000)\n",
    "\n",
    "    def test_give_default_raise(self):\n",
    "        # Call give_raise() without a custom raise amount\n",
    "        self.employee1.give_raise()\n",
    "        \n",
    "        # Check if the salary is updated correctly (50000 + 5000 = 55000)\n",
    "        self.assertEqual(self.employee1.annual_salary, 55000)\n",
    "\n",
    "    def test_give_custom_raise(self):\n",
    "        # Call give_raise() with a custom raise amount\n",
    "        self.employee2.give_raise(7000)\n",
    "        \n",
    "        # Check if the salary is updated correctly (60000 + 7000 = 67000)\n",
    "        self.assertEqual(self.employee2.annual_salary, 67000)\n",
    "\n",
    "# Run the tests with the fixture\n",
    "unittest.TextTestRunner().run(unittest.TestLoader().loadTestsFromTestCase(TestEmployeeWithFixture))\n"
   ]
  },
  {
   "cell_type": "code",
   "execution_count": null,
   "id": "e7c0abb4",
   "metadata": {},
   "outputs": [],
   "source": []
  }
 ],
 "metadata": {
  "kernelspec": {
   "display_name": "Python 3 (ipykernel)",
   "language": "python",
   "name": "python3"
  },
  "language_info": {
   "codemirror_mode": {
    "name": "ipython",
    "version": 3
   },
   "file_extension": ".py",
   "mimetype": "text/x-python",
   "name": "python",
   "nbconvert_exporter": "python",
   "pygments_lexer": "ipython3",
   "version": "3.11.5"
  }
 },
 "nbformat": 4,
 "nbformat_minor": 5
}
